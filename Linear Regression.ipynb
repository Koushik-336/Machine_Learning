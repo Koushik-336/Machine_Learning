{
 "cells": [
  {
   "cell_type": "code",
   "execution_count": 6,
   "id": "37c5664c-f265-42f9-9047-9bd2052f5890",
   "metadata": {},
   "outputs": [],
   "source": [
    "import pandas as pd "
   ]
  },
  {
   "cell_type": "code",
   "execution_count": 7,
   "id": "b0f675d1-ecf7-4296-bfa3-0ca0f6032b3d",
   "metadata": {},
   "outputs": [],
   "source": [
    "file = pd.read_csv('E:\\\\BAIUST\\\\Thesis Paper Documents\\\\Thesis Work\\\\FinalDataset.csv')"
   ]
  },
  {
   "cell_type": "code",
   "execution_count": 8,
   "id": "f66f6e20-4cc2-40cd-a306-f99e55203ae6",
   "metadata": {},
   "outputs": [
    {
     "data": {
      "text/html": [
       "<div>\n",
       "<style scoped>\n",
       "    .dataframe tbody tr th:only-of-type {\n",
       "        vertical-align: middle;\n",
       "    }\n",
       "\n",
       "    .dataframe tbody tr th {\n",
       "        vertical-align: top;\n",
       "    }\n",
       "\n",
       "    .dataframe thead th {\n",
       "        text-align: right;\n",
       "    }\n",
       "</style>\n",
       "<table border=\"1\" class=\"dataframe\">\n",
       "  <thead>\n",
       "    <tr style=\"text-align: right;\">\n",
       "      <th></th>\n",
       "      <th>Rainfall</th>\n",
       "      <th>Humidity</th>\n",
       "      <th>Cloud</th>\n",
       "      <th>Dry_bulb</th>\n",
       "      <th>Min_Temp</th>\n",
       "      <th>Max_Temp</th>\n",
       "      <th>Pressure</th>\n",
       "      <th>Sun Shine</th>\n",
       "      <th>Wind_Speed</th>\n",
       "      <th>Wind_Direction</th>\n",
       "    </tr>\n",
       "  </thead>\n",
       "  <tbody>\n",
       "    <tr>\n",
       "      <th>0</th>\n",
       "      <td>0</td>\n",
       "      <td>69</td>\n",
       "      <td>0</td>\n",
       "      <td>19.2</td>\n",
       "      <td>9.9</td>\n",
       "      <td>26.0</td>\n",
       "      <td>1015.2</td>\n",
       "      <td>6.3</td>\n",
       "      <td>0.0</td>\n",
       "      <td>0</td>\n",
       "    </tr>\n",
       "    <tr>\n",
       "      <th>1</th>\n",
       "      <td>0</td>\n",
       "      <td>70</td>\n",
       "      <td>0</td>\n",
       "      <td>15.5</td>\n",
       "      <td>11.5</td>\n",
       "      <td>24.0</td>\n",
       "      <td>1015.2</td>\n",
       "      <td>8.3</td>\n",
       "      <td>0.0</td>\n",
       "      <td>0</td>\n",
       "    </tr>\n",
       "    <tr>\n",
       "      <th>2</th>\n",
       "      <td>0</td>\n",
       "      <td>71</td>\n",
       "      <td>0</td>\n",
       "      <td>14.2</td>\n",
       "      <td>6.0</td>\n",
       "      <td>23.5</td>\n",
       "      <td>1016.1</td>\n",
       "      <td>8.5</td>\n",
       "      <td>0.0</td>\n",
       "      <td>0</td>\n",
       "    </tr>\n",
       "    <tr>\n",
       "      <th>3</th>\n",
       "      <td>0</td>\n",
       "      <td>72</td>\n",
       "      <td>0</td>\n",
       "      <td>15.0</td>\n",
       "      <td>6.4</td>\n",
       "      <td>25.0</td>\n",
       "      <td>1016.8</td>\n",
       "      <td>8.7</td>\n",
       "      <td>0.0</td>\n",
       "      <td>0</td>\n",
       "    </tr>\n",
       "    <tr>\n",
       "      <th>4</th>\n",
       "      <td>0</td>\n",
       "      <td>75</td>\n",
       "      <td>0</td>\n",
       "      <td>16.1</td>\n",
       "      <td>7.0</td>\n",
       "      <td>25.5</td>\n",
       "      <td>1018.0</td>\n",
       "      <td>8.8</td>\n",
       "      <td>6.0</td>\n",
       "      <td>7</td>\n",
       "    </tr>\n",
       "    <tr>\n",
       "      <th>...</th>\n",
       "      <td>...</td>\n",
       "      <td>...</td>\n",
       "      <td>...</td>\n",
       "      <td>...</td>\n",
       "      <td>...</td>\n",
       "      <td>...</td>\n",
       "      <td>...</td>\n",
       "      <td>...</td>\n",
       "      <td>...</td>\n",
       "      <td>...</td>\n",
       "    </tr>\n",
       "    <tr>\n",
       "      <th>9492</th>\n",
       "      <td>0</td>\n",
       "      <td>72</td>\n",
       "      <td>0</td>\n",
       "      <td>18.3</td>\n",
       "      <td>11.5</td>\n",
       "      <td>25.6</td>\n",
       "      <td>1012.9</td>\n",
       "      <td>8.1</td>\n",
       "      <td>0.0</td>\n",
       "      <td>0</td>\n",
       "    </tr>\n",
       "    <tr>\n",
       "      <th>9493</th>\n",
       "      <td>0</td>\n",
       "      <td>81</td>\n",
       "      <td>0</td>\n",
       "      <td>17.5</td>\n",
       "      <td>11.0</td>\n",
       "      <td>26.0</td>\n",
       "      <td>1012.9</td>\n",
       "      <td>7.4</td>\n",
       "      <td>2.0</td>\n",
       "      <td>7</td>\n",
       "    </tr>\n",
       "    <tr>\n",
       "      <th>9494</th>\n",
       "      <td>0</td>\n",
       "      <td>78</td>\n",
       "      <td>0</td>\n",
       "      <td>17.6</td>\n",
       "      <td>10.5</td>\n",
       "      <td>25.5</td>\n",
       "      <td>1013.7</td>\n",
       "      <td>8.1</td>\n",
       "      <td>2.0</td>\n",
       "      <td>8</td>\n",
       "    </tr>\n",
       "    <tr>\n",
       "      <th>9495</th>\n",
       "      <td>0</td>\n",
       "      <td>77</td>\n",
       "      <td>0</td>\n",
       "      <td>17.4</td>\n",
       "      <td>10.9</td>\n",
       "      <td>25.5</td>\n",
       "      <td>1014.2</td>\n",
       "      <td>8.6</td>\n",
       "      <td>0.0</td>\n",
       "      <td>0</td>\n",
       "    </tr>\n",
       "    <tr>\n",
       "      <th>9496</th>\n",
       "      <td>0</td>\n",
       "      <td>75</td>\n",
       "      <td>0</td>\n",
       "      <td>17.7</td>\n",
       "      <td>10.5</td>\n",
       "      <td>26.7</td>\n",
       "      <td>1014.4</td>\n",
       "      <td>8.9</td>\n",
       "      <td>2.0</td>\n",
       "      <td>7</td>\n",
       "    </tr>\n",
       "  </tbody>\n",
       "</table>\n",
       "<p>9497 rows × 10 columns</p>\n",
       "</div>"
      ],
      "text/plain": [
       "      Rainfall  Humidity  Cloud  Dry_bulb  Min_Temp  Max_Temp  Pressure  \\\n",
       "0            0        69      0      19.2       9.9      26.0    1015.2   \n",
       "1            0        70      0      15.5      11.5      24.0    1015.2   \n",
       "2            0        71      0      14.2       6.0      23.5    1016.1   \n",
       "3            0        72      0      15.0       6.4      25.0    1016.8   \n",
       "4            0        75      0      16.1       7.0      25.5    1018.0   \n",
       "...        ...       ...    ...       ...       ...       ...       ...   \n",
       "9492         0        72      0      18.3      11.5      25.6    1012.9   \n",
       "9493         0        81      0      17.5      11.0      26.0    1012.9   \n",
       "9494         0        78      0      17.6      10.5      25.5    1013.7   \n",
       "9495         0        77      0      17.4      10.9      25.5    1014.2   \n",
       "9496         0        75      0      17.7      10.5      26.7    1014.4   \n",
       "\n",
       "      Sun Shine  Wind_Speed  Wind_Direction  \n",
       "0           6.3         0.0               0  \n",
       "1           8.3         0.0               0  \n",
       "2           8.5         0.0               0  \n",
       "3           8.7         0.0               0  \n",
       "4           8.8         6.0               7  \n",
       "...         ...         ...             ...  \n",
       "9492        8.1         0.0               0  \n",
       "9493        7.4         2.0               7  \n",
       "9494        8.1         2.0               8  \n",
       "9495        8.6         0.0               0  \n",
       "9496        8.9         2.0               7  \n",
       "\n",
       "[9497 rows x 10 columns]"
      ]
     },
     "execution_count": 8,
     "metadata": {},
     "output_type": "execute_result"
    }
   ],
   "source": [
    "file"
   ]
  },
  {
   "cell_type": "code",
   "execution_count": 9,
   "id": "584decb1-71f1-435a-81d9-334c95b4157f",
   "metadata": {},
   "outputs": [],
   "source": [
    "import matplotlib.pyplot as plt \n",
    "%matplotlib inline "
   ]
  },
  {
   "cell_type": "code",
   "execution_count": 10,
   "id": "a30af495-58a4-4dc8-b4bf-a15b78f367ab",
   "metadata": {},
   "outputs": [
    {
     "data": {
      "text/plain": [
       "<matplotlib.collections.PathCollection at 0x286f232ecd0>"
      ]
     },
     "execution_count": 10,
     "metadata": {},
     "output_type": "execute_result"
    },
    {
     "data": {
      "image/png": "[encoded data removed]",
      "text/plain": [
       "<Figure size 640x480 with 1 Axes>"
      ]
     },
     "metadata": {},
     "output_type": "display_data"
    }
   ],
   "source": [
    "plt.scatter(file['Rainfall'],file['Humidity'])"
   ]
  },
  {
   "cell_type": "code",
   "execution_count": 11,
   "id": "081b2886-33c6-402c-b549-b09e11f9d9b5",
   "metadata": {},
   "outputs": [
    {
     "data": {
      "text/plain": [
       "<matplotlib.collections.PathCollection at 0x286f23f3450>"
      ]
     },
     "execution_count": 11,
     "metadata": {},
     "output_type": "execute_result"
    },
    {
     "data": {
      "image/png": "[encoded data removed]",
      "text/plain": [
       "<Figure size 640x480 with 1 Axes>"
      ]
     },
     "metadata": {},
     "output_type": "display_data"
    }
   ],
   "source": [
    "plt.scatter(file['Rainfall'],file['Cloud'])"
   ]
  },
  {
   "cell_type": "code",
   "execution_count": 12,
   "id": "cc8ec462-0524-4bf6-8ef4-98ad9aba4611",
   "metadata": {},
   "outputs": [
    {
     "data": {
      "text/plain": [
       "<matplotlib.collections.PathCollection at 0x286f55a5310>"
      ]
     },
     "execution_count": 12,
     "metadata": {},
     "output_type": "execute_result"
    },
    {
     "data": {
      "image/png": "[encoded data removed]",
      "text/plain": [
       "<Figure size 640x480 with 1 Axes>"
      ]
     },
     "metadata": {},
     "output_type": "display_data"
    }
   ],
   "source": [
    "plt.scatter(file['Rainfall'],file['Dry_bulb'])"
   ]
  },
  {
   "cell_type": "code",
   "execution_count": 13,
   "id": "90256344-d6a6-4e11-bc6d-d806988b59d2",
   "metadata": {},
   "outputs": [
    {
     "data": {
      "text/plain": [
       "<matplotlib.collections.PathCollection at 0x286f56aec90>"
      ]
     },
     "execution_count": 13,
     "metadata": {},
     "output_type": "execute_result"
    },
    {
     "data": {
      "image/png": "[encoded data removed]",
      "text/plain": [
       "<Figure size 640x480 with 1 Axes>"
      ]
     },
     "metadata": {},
     "output_type": "display_data"
    }
   ],
   "source": [
    "plt.scatter(file['Rainfall'],file['Min_Temp'])"
   ]
  },
  {
   "cell_type": "code",
   "execution_count": 14,
   "id": "7afba805-d485-4791-ac66-caea8d160b49",
   "metadata": {},
   "outputs": [
    {
     "data": {
      "text/plain": [
       "<matplotlib.collections.PathCollection at 0x286f5726f90>"
      ]
     },
     "execution_count": 14,
     "metadata": {},
     "output_type": "execute_result"
    },
    {
     "data": {
      "image/png": "[encoded data removed]",
      "text/plain": [
       "<Figure size 640x480 with 1 Axes>"
      ]
     },
     "metadata": {},
     "output_type": "display_data"
    }
   ],
   "source": [
    "plt.scatter(file['Rainfall'],file['Max_Temp'])"
   ]
  },
  {
   "cell_type": "code",
   "execution_count": 15,
   "id": "578a041e-d0ae-4e52-8fd2-b57665b525fe",
   "metadata": {},
   "outputs": [
    {
     "data": {
      "text/plain": [
       "<matplotlib.collections.PathCollection at 0x286f578a690>"
      ]
     },
     "execution_count": 15,
     "metadata": {},
     "output_type": "execute_result"
    },
    {
     "data": {
      "image/png": "[encoded data removed]",
      "text/plain": [
       "<Figure size 640x480 with 1 Axes>"
      ]
     },
     "metadata": {},
     "output_type": "display_data"
    }
   ],
   "source": [
    "plt.scatter(file['Rainfall'],file['Pressure'])"
   ]
  },
  {
   "cell_type": "code",
   "execution_count": 16,
   "id": "b6fa0e0b-b3d2-4c32-80a7-a68035246cf6",
   "metadata": {},
   "outputs": [
    {
     "data": {
      "text/plain": [
       "<matplotlib.collections.PathCollection at 0x286f57e4950>"
      ]
     },
     "execution_count": 16,
     "metadata": {},
     "output_type": "execute_result"
    },
    {
     "data": {
      "image/png": "[encoded data removed]",
      "text/plain": [
       "<Figure size 640x480 with 1 Axes>"
      ]
     },
     "metadata": {},
     "output_type": "display_data"
    }
   ],
   "source": [
    "plt.scatter(file['Rainfall'],file['Sun Shine'])"
   ]
  },
  {
   "cell_type": "code",
   "execution_count": 17,
   "id": "de4e5998-c536-4eb6-9aff-b92623b8de55",
   "metadata": {},
   "outputs": [
    {
     "data": {
      "text/plain": [
       "<matplotlib.collections.PathCollection at 0x286f5836990>"
      ]
     },
     "execution_count": 17,
     "metadata": {},
     "output_type": "execute_result"
    },
    {
     "data": {
      "image/png": "[encoded data removed]",
      "text/plain": [
       "<Figure size 640x480 with 1 Axes>"
      ]
     },
     "metadata": {},
     "output_type": "display_data"
    }
   ],
   "source": [
    "plt.scatter(file['Rainfall'],file['Wind_Speed'])"
   ]
  },
  {
   "cell_type": "code",
   "execution_count": 18,
   "id": "0fd00442-92a5-4793-a31f-224402391a2d",
   "metadata": {},
   "outputs": [
    {
     "data": {
      "text/plain": [
       "<matplotlib.collections.PathCollection at 0x286f68d2d90>"
      ]
     },
     "execution_count": 18,
     "metadata": {},
     "output_type": "execute_result"
    },
    {
     "data": {
      "image/png": "[encoded data removed]",
      "text/plain": [
       "<Figure size 640x480 with 1 Axes>"
      ]
     },
     "metadata": {},
     "output_type": "display_data"
    }
   ],
   "source": [
    "plt.scatter(file['Rainfall'],file['Wind_Direction'])"
   ]
  },
  {
   "cell_type": "code",
   "execution_count": 19,
   "id": "7b393d63-ae6f-430c-a0a7-8c0710f5c11d",
   "metadata": {},
   "outputs": [],
   "source": [
    "X = file[['Humidity','Cloud','Dry_bulb','Min_Temp','Max_Temp','Pressure','Sun Shine','Wind_Speed','Wind_Direction']]\n",
    "Y = file['Rainfall']"
   ]
  },
  {
   "cell_type": "code",
   "execution_count": 20,
   "id": "4e6d2343-5f43-4664-b267-287becce0a14",
   "metadata": {},
   "outputs": [
    {
     "data": {
      "text/html": [
       "<div>\n",
       "<style scoped>\n",
       "    .dataframe tbody tr th:only-of-type {\n",
       "        vertical-align: middle;\n",
       "    }\n",
       "\n",
       "    .dataframe tbody tr th {\n",
       "        vertical-align: top;\n",
       "    }\n",
       "\n",
       "    .dataframe thead th {\n",
       "        text-align: right;\n",
       "    }\n",
       "</style>\n",
       "<table border=\"1\" class=\"dataframe\">\n",
       "  <thead>\n",
       "    <tr style=\"text-align: right;\">\n",
       "      <th></th>\n",
       "      <th>Humidity</th>\n",
       "      <th>Cloud</th>\n",
       "      <th>Dry_bulb</th>\n",
       "      <th>Min_Temp</th>\n",
       "      <th>Max_Temp</th>\n",
       "      <th>Pressure</th>\n",
       "      <th>Sun Shine</th>\n",
       "      <th>Wind_Speed</th>\n",
       "      <th>Wind_Direction</th>\n",
       "    </tr>\n",
       "  </thead>\n",
       "  <tbody>\n",
       "    <tr>\n",
       "      <th>0</th>\n",
       "      <td>69</td>\n",
       "      <td>0</td>\n",
       "      <td>19.2</td>\n",
       "      <td>9.9</td>\n",
       "      <td>26.0</td>\n",
       "      <td>1015.2</td>\n",
       "      <td>6.3</td>\n",
       "      <td>0.0</td>\n",
       "      <td>0</td>\n",
       "    </tr>\n",
       "    <tr>\n",
       "      <th>1</th>\n",
       "      <td>70</td>\n",
       "      <td>0</td>\n",
       "      <td>15.5</td>\n",
       "      <td>11.5</td>\n",
       "      <td>24.0</td>\n",
       "      <td>1015.2</td>\n",
       "      <td>8.3</td>\n",
       "      <td>0.0</td>\n",
       "      <td>0</td>\n",
       "    </tr>\n",
       "    <tr>\n",
       "      <th>2</th>\n",
       "      <td>71</td>\n",
       "      <td>0</td>\n",
       "      <td>14.2</td>\n",
       "      <td>6.0</td>\n",
       "      <td>23.5</td>\n",
       "      <td>1016.1</td>\n",
       "      <td>8.5</td>\n",
       "      <td>0.0</td>\n",
       "      <td>0</td>\n",
       "    </tr>\n",
       "    <tr>\n",
       "      <th>3</th>\n",
       "      <td>72</td>\n",
       "      <td>0</td>\n",
       "      <td>15.0</td>\n",
       "      <td>6.4</td>\n",
       "      <td>25.0</td>\n",
       "      <td>1016.8</td>\n",
       "      <td>8.7</td>\n",
       "      <td>0.0</td>\n",
       "      <td>0</td>\n",
       "    </tr>\n",
       "    <tr>\n",
       "      <th>4</th>\n",
       "      <td>75</td>\n",
       "      <td>0</td>\n",
       "      <td>16.1</td>\n",
       "      <td>7.0</td>\n",
       "      <td>25.5</td>\n",
       "      <td>1018.0</td>\n",
       "      <td>8.8</td>\n",
       "      <td>6.0</td>\n",
       "      <td>7</td>\n",
       "    </tr>\n",
       "    <tr>\n",
       "      <th>...</th>\n",
       "      <td>...</td>\n",
       "      <td>...</td>\n",
       "      <td>...</td>\n",
       "      <td>...</td>\n",
       "      <td>...</td>\n",
       "      <td>...</td>\n",
       "      <td>...</td>\n",
       "      <td>...</td>\n",
       "      <td>...</td>\n",
       "    </tr>\n",
       "    <tr>\n",
       "      <th>9492</th>\n",
       "      <td>72</td>\n",
       "      <td>0</td>\n",
       "      <td>18.3</td>\n",
       "      <td>11.5</td>\n",
       "      <td>25.6</td>\n",
       "      <td>1012.9</td>\n",
       "      <td>8.1</td>\n",
       "      <td>0.0</td>\n",
       "      <td>0</td>\n",
       "    </tr>\n",
       "    <tr>\n",
       "      <th>9493</th>\n",
       "      <td>81</td>\n",
       "      <td>0</td>\n",
       "      <td>17.5</td>\n",
       "      <td>11.0</td>\n",
       "      <td>26.0</td>\n",
       "      <td>1012.9</td>\n",
       "      <td>7.4</td>\n",
       "      <td>2.0</td>\n",
       "      <td>7</td>\n",
       "    </tr>\n",
       "    <tr>\n",
       "      <th>9494</th>\n",
       "      <td>78</td>\n",
       "      <td>0</td>\n",
       "      <td>17.6</td>\n",
       "      <td>10.5</td>\n",
       "      <td>25.5</td>\n",
       "      <td>1013.7</td>\n",
       "      <td>8.1</td>\n",
       "      <td>2.0</td>\n",
       "      <td>8</td>\n",
       "    </tr>\n",
       "    <tr>\n",
       "      <th>9495</th>\n",
       "      <td>77</td>\n",
       "      <td>0</td>\n",
       "      <td>17.4</td>\n",
       "      <td>10.9</td>\n",
       "      <td>25.5</td>\n",
       "      <td>1014.2</td>\n",
       "      <td>8.6</td>\n",
       "      <td>0.0</td>\n",
       "      <td>0</td>\n",
       "    </tr>\n",
       "    <tr>\n",
       "      <th>9496</th>\n",
       "      <td>75</td>\n",
       "      <td>0</td>\n",
       "      <td>17.7</td>\n",
       "      <td>10.5</td>\n",
       "      <td>26.7</td>\n",
       "      <td>1014.4</td>\n",
       "      <td>8.9</td>\n",
       "      <td>2.0</td>\n",
       "      <td>7</td>\n",
       "    </tr>\n",
       "  </tbody>\n",
       "</table>\n",
       "<p>9497 rows × 9 columns</p>\n",
       "</div>"
      ],
      "text/plain": [
       "      Humidity  Cloud  Dry_bulb  Min_Temp  Max_Temp  Pressure  Sun Shine  \\\n",
       "0           69      0      19.2       9.9      26.0    1015.2        6.3   \n",
       "1           70      0      15.5      11.5      24.0    1015.2        8.3   \n",
       "2           71      0      14.2       6.0      23.5    1016.1        8.5   \n",
       "3           72      0      15.0       6.4      25.0    1016.8        8.7   \n",
       "4           75      0      16.1       7.0      25.5    1018.0        8.8   \n",
       "...        ...    ...       ...       ...       ...       ...        ...   \n",
       "9492        72      0      18.3      11.5      25.6    1012.9        8.1   \n",
       "9493        81      0      17.5      11.0      26.0    1012.9        7.4   \n",
       "9494        78      0      17.6      10.5      25.5    1013.7        8.1   \n",
       "9495        77      0      17.4      10.9      25.5    1014.2        8.6   \n",
       "9496        75      0      17.7      10.5      26.7    1014.4        8.9   \n",
       "\n",
       "      Wind_Speed  Wind_Direction  \n",
       "0            0.0               0  \n",
       "1            0.0               0  \n",
       "2            0.0               0  \n",
       "3            0.0               0  \n",
       "4            6.0               7  \n",
       "...          ...             ...  \n",
       "9492         0.0               0  \n",
       "9493         2.0               7  \n",
       "9494         2.0               8  \n",
       "9495         0.0               0  \n",
       "9496         2.0               7  \n",
       "\n",
       "[9497 rows x 9 columns]"
      ]
     },
     "execution_count": 20,
     "metadata": {},
     "output_type": "execute_result"
    }
   ],
   "source": [
    "X"
   ]
  },
  {
   "cell_type": "code",
   "execution_count": 21,
   "id": "760e4102-2e14-4c1b-873a-ae201dc924a6",
   "metadata": {},
   "outputs": [
    {
     "data": {
      "text/plain": [
       "0       0\n",
       "1       0\n",
       "2       0\n",
       "3       0\n",
       "4       0\n",
       "       ..\n",
       "9492    0\n",
       "9493    0\n",
       "9494    0\n",
       "9495    0\n",
       "9496    0\n",
       "Name: Rainfall, Length: 9497, dtype: int64"
      ]
     },
     "execution_count": 21,
     "metadata": {},
     "output_type": "execute_result"
    }
   ],
   "source": [
    "Y"
   ]
  },
  {
   "cell_type": "code",
   "execution_count": 22,
   "id": "6c70e4a8-f63e-4acf-81ce-8f5117779b27",
   "metadata": {},
   "outputs": [],
   "source": [
    "import sklearn"
   ]
  },
  {
   "cell_type": "code",
   "execution_count": 23,
   "id": "207e75d0-408e-4d82-af15-1d00c4dcb774",
   "metadata": {},
   "outputs": [],
   "source": [
    "from sklearn.model_selection import train_test_split \n",
    "X_train, X_test, Y_train, Y_test = train_test_split(X,Y, test_size=0.2)"
   ]
  },
  {
   "cell_type": "code",
   "execution_count": 24,
   "id": "11ad6982-9578-4743-b5f0-0caef9d1cdfe",
   "metadata": {},
   "outputs": [
    {
     "data": {
      "text/plain": [
       "9497"
      ]
     },
     "execution_count": 24,
     "metadata": {},
     "output_type": "execute_result"
    }
   ],
   "source": [
    "len(X)"
   ]
  },
  {
   "cell_type": "code",
   "execution_count": 25,
   "id": "df1f456b-cd82-4966-90b9-88de449d3547",
   "metadata": {},
   "outputs": [
    {
     "data": {
      "text/plain": [
       "7597"
      ]
     },
     "execution_count": 25,
     "metadata": {},
     "output_type": "execute_result"
    }
   ],
   "source": [
    "len(X_train)"
   ]
  },
  {
   "cell_type": "code",
   "execution_count": 26,
   "id": "332abc0c-9d9c-4c6a-9949-b7c83b0a3ec3",
   "metadata": {},
   "outputs": [
    {
     "data": {
      "text/plain": [
       "1900"
      ]
     },
     "execution_count": 26,
     "metadata": {},
     "output_type": "execute_result"
    }
   ],
   "source": [
    "len(X_test)"
   ]
  },
  {
   "cell_type": "code",
   "execution_count": 27,
   "id": "b2eecf92-227f-4542-9baf-9e0516978536",
   "metadata": {},
   "outputs": [
    {
     "data": {
      "text/html": [
       "<div>\n",
       "<style scoped>\n",
       "    .dataframe tbody tr th:only-of-type {\n",
       "        vertical-align: middle;\n",
       "    }\n",
       "\n",
       "    .dataframe tbody tr th {\n",
       "        vertical-align: top;\n",
       "    }\n",
       "\n",
       "    .dataframe thead th {\n",
       "        text-align: right;\n",
       "    }\n",
       "</style>\n",
       "<table border=\"1\" class=\"dataframe\">\n",
       "  <thead>\n",
       "    <tr style=\"text-align: right;\">\n",
       "      <th></th>\n",
       "      <th>Humidity</th>\n",
       "      <th>Cloud</th>\n",
       "      <th>Dry_bulb</th>\n",
       "      <th>Min_Temp</th>\n",
       "      <th>Max_Temp</th>\n",
       "      <th>Pressure</th>\n",
       "      <th>Sun Shine</th>\n",
       "      <th>Wind_Speed</th>\n",
       "      <th>Wind_Direction</th>\n",
       "    </tr>\n",
       "  </thead>\n",
       "  <tbody>\n",
       "    <tr>\n",
       "      <th>8593</th>\n",
       "      <td>78</td>\n",
       "      <td>5</td>\n",
       "      <td>29.6</td>\n",
       "      <td>26.4</td>\n",
       "      <td>33.0</td>\n",
       "      <td>998.9</td>\n",
       "      <td>6.9</td>\n",
       "      <td>2.0</td>\n",
       "      <td>9</td>\n",
       "    </tr>\n",
       "    <tr>\n",
       "      <th>330</th>\n",
       "      <td>82</td>\n",
       "      <td>0</td>\n",
       "      <td>20.6</td>\n",
       "      <td>16.2</td>\n",
       "      <td>26.0</td>\n",
       "      <td>1013.8</td>\n",
       "      <td>8.1</td>\n",
       "      <td>5.3</td>\n",
       "      <td>4</td>\n",
       "    </tr>\n",
       "    <tr>\n",
       "      <th>8941</th>\n",
       "      <td>80</td>\n",
       "      <td>4</td>\n",
       "      <td>31.0</td>\n",
       "      <td>28.3</td>\n",
       "      <td>34.3</td>\n",
       "      <td>1004.6</td>\n",
       "      <td>9.0</td>\n",
       "      <td>2.4</td>\n",
       "      <td>13</td>\n",
       "    </tr>\n",
       "    <tr>\n",
       "      <th>2907</th>\n",
       "      <td>83</td>\n",
       "      <td>1</td>\n",
       "      <td>20.1</td>\n",
       "      <td>14.4</td>\n",
       "      <td>27.0</td>\n",
       "      <td>1014.1</td>\n",
       "      <td>6.3</td>\n",
       "      <td>0.0</td>\n",
       "      <td>0</td>\n",
       "    </tr>\n",
       "    <tr>\n",
       "      <th>7978</th>\n",
       "      <td>90</td>\n",
       "      <td>8</td>\n",
       "      <td>24.4</td>\n",
       "      <td>23.6</td>\n",
       "      <td>28.9</td>\n",
       "      <td>1011.1</td>\n",
       "      <td>0.0</td>\n",
       "      <td>5.0</td>\n",
       "      <td>8</td>\n",
       "    </tr>\n",
       "    <tr>\n",
       "      <th>...</th>\n",
       "      <td>...</td>\n",
       "      <td>...</td>\n",
       "      <td>...</td>\n",
       "      <td>...</td>\n",
       "      <td>...</td>\n",
       "      <td>...</td>\n",
       "      <td>...</td>\n",
       "      <td>...</td>\n",
       "      <td>...</td>\n",
       "    </tr>\n",
       "    <tr>\n",
       "      <th>3002</th>\n",
       "      <td>71</td>\n",
       "      <td>0</td>\n",
       "      <td>24.9</td>\n",
       "      <td>17.8</td>\n",
       "      <td>30.5</td>\n",
       "      <td>1013.0</td>\n",
       "      <td>10.3</td>\n",
       "      <td>2.5</td>\n",
       "      <td>14</td>\n",
       "    </tr>\n",
       "    <tr>\n",
       "      <th>8320</th>\n",
       "      <td>81</td>\n",
       "      <td>4</td>\n",
       "      <td>29.4</td>\n",
       "      <td>26.8</td>\n",
       "      <td>33.2</td>\n",
       "      <td>1005.2</td>\n",
       "      <td>5.4</td>\n",
       "      <td>1.7</td>\n",
       "      <td>14</td>\n",
       "    </tr>\n",
       "    <tr>\n",
       "      <th>4830</th>\n",
       "      <td>85</td>\n",
       "      <td>7</td>\n",
       "      <td>24.9</td>\n",
       "      <td>21.6</td>\n",
       "      <td>29.4</td>\n",
       "      <td>1009.6</td>\n",
       "      <td>3.1</td>\n",
       "      <td>3.0</td>\n",
       "      <td>1</td>\n",
       "    </tr>\n",
       "    <tr>\n",
       "      <th>7463</th>\n",
       "      <td>81</td>\n",
       "      <td>4</td>\n",
       "      <td>30.7</td>\n",
       "      <td>27.0</td>\n",
       "      <td>35.0</td>\n",
       "      <td>1003.7</td>\n",
       "      <td>7.8</td>\n",
       "      <td>3.7</td>\n",
       "      <td>9</td>\n",
       "    </tr>\n",
       "    <tr>\n",
       "      <th>7017</th>\n",
       "      <td>76</td>\n",
       "      <td>1</td>\n",
       "      <td>24.7</td>\n",
       "      <td>22.0</td>\n",
       "      <td>31.0</td>\n",
       "      <td>1010.7</td>\n",
       "      <td>6.8</td>\n",
       "      <td>2.0</td>\n",
       "      <td>9</td>\n",
       "    </tr>\n",
       "  </tbody>\n",
       "</table>\n",
       "<p>1900 rows × 9 columns</p>\n",
       "</div>"
      ],
      "text/plain": [
       "      Humidity  Cloud  Dry_bulb  Min_Temp  Max_Temp  Pressure  Sun Shine  \\\n",
       "8593        78      5      29.6      26.4      33.0     998.9        6.9   \n",
       "330         82      0      20.6      16.2      26.0    1013.8        8.1   \n",
       "8941        80      4      31.0      28.3      34.3    1004.6        9.0   \n",
       "2907        83      1      20.1      14.4      27.0    1014.1        6.3   \n",
       "7978        90      8      24.4      23.6      28.9    1011.1        0.0   \n",
       "...        ...    ...       ...       ...       ...       ...        ...   \n",
       "3002        71      0      24.9      17.8      30.5    1013.0       10.3   \n",
       "8320        81      4      29.4      26.8      33.2    1005.2        5.4   \n",
       "4830        85      7      24.9      21.6      29.4    1009.6        3.1   \n",
       "7463        81      4      30.7      27.0      35.0    1003.7        7.8   \n",
       "7017        76      1      24.7      22.0      31.0    1010.7        6.8   \n",
       "\n",
       "      Wind_Speed  Wind_Direction  \n",
       "8593         2.0               9  \n",
       "330          5.3               4  \n",
       "8941         2.4              13  \n",
       "2907         0.0               0  \n",
       "7978         5.0               8  \n",
       "...          ...             ...  \n",
       "3002         2.5              14  \n",
       "8320         1.7              14  \n",
       "4830         3.0               1  \n",
       "7463         3.7               9  \n",
       "7017         2.0               9  \n",
       "\n",
       "[1900 rows x 9 columns]"
      ]
     },
     "execution_count": 27,
     "metadata": {},
     "output_type": "execute_result"
    }
   ],
   "source": [
    "X_test"
   ]
  },
  {
   "cell_type": "code",
   "execution_count": 28,
   "id": "71ab6db6-7726-4e8c-8680-d6341f2294a5",
   "metadata": {},
   "outputs": [
    {
     "data": {
      "text/html": [
       "<div>\n",
       "<style scoped>\n",
       "    .dataframe tbody tr th:only-of-type {\n",
       "        vertical-align: middle;\n",
       "    }\n",
       "\n",
       "    .dataframe tbody tr th {\n",
       "        vertical-align: top;\n",
       "    }\n",
       "\n",
       "    .dataframe thead th {\n",
       "        text-align: right;\n",
       "    }\n",
       "</style>\n",
       "<table border=\"1\" class=\"dataframe\">\n",
       "  <thead>\n",
       "    <tr style=\"text-align: right;\">\n",
       "      <th></th>\n",
       "      <th>Humidity</th>\n",
       "      <th>Cloud</th>\n",
       "      <th>Dry_bulb</th>\n",
       "      <th>Min_Temp</th>\n",
       "      <th>Max_Temp</th>\n",
       "      <th>Pressure</th>\n",
       "      <th>Sun Shine</th>\n",
       "      <th>Wind_Speed</th>\n",
       "      <th>Wind_Direction</th>\n",
       "    </tr>\n",
       "  </thead>\n",
       "  <tbody>\n",
       "    <tr>\n",
       "      <th>3067</th>\n",
       "      <td>80</td>\n",
       "      <td>5</td>\n",
       "      <td>30.2</td>\n",
       "      <td>23.8</td>\n",
       "      <td>34.5</td>\n",
       "      <td>1003.1</td>\n",
       "      <td>10.0</td>\n",
       "      <td>5.9</td>\n",
       "      <td>9</td>\n",
       "    </tr>\n",
       "    <tr>\n",
       "      <th>4047</th>\n",
       "      <td>76</td>\n",
       "      <td>0</td>\n",
       "      <td>20.1</td>\n",
       "      <td>12.5</td>\n",
       "      <td>28.0</td>\n",
       "      <td>1016.1</td>\n",
       "      <td>8.6</td>\n",
       "      <td>2.5</td>\n",
       "      <td>14</td>\n",
       "    </tr>\n",
       "    <tr>\n",
       "      <th>7110</th>\n",
       "      <td>93</td>\n",
       "      <td>8</td>\n",
       "      <td>27.0</td>\n",
       "      <td>25.5</td>\n",
       "      <td>30.0</td>\n",
       "      <td>997.1</td>\n",
       "      <td>0.9</td>\n",
       "      <td>2.8</td>\n",
       "      <td>9</td>\n",
       "    </tr>\n",
       "    <tr>\n",
       "      <th>6924</th>\n",
       "      <td>72</td>\n",
       "      <td>0</td>\n",
       "      <td>18.4</td>\n",
       "      <td>11.2</td>\n",
       "      <td>27.2</td>\n",
       "      <td>1014.7</td>\n",
       "      <td>8.7</td>\n",
       "      <td>4.0</td>\n",
       "      <td>8</td>\n",
       "    </tr>\n",
       "    <tr>\n",
       "      <th>3586</th>\n",
       "      <td>73</td>\n",
       "      <td>1</td>\n",
       "      <td>26.7</td>\n",
       "      <td>21.4</td>\n",
       "      <td>32.0</td>\n",
       "      <td>1014.6</td>\n",
       "      <td>10.1</td>\n",
       "      <td>3.0</td>\n",
       "      <td>8</td>\n",
       "    </tr>\n",
       "    <tr>\n",
       "      <th>...</th>\n",
       "      <td>...</td>\n",
       "      <td>...</td>\n",
       "      <td>...</td>\n",
       "      <td>...</td>\n",
       "      <td>...</td>\n",
       "      <td>...</td>\n",
       "      <td>...</td>\n",
       "      <td>...</td>\n",
       "      <td>...</td>\n",
       "    </tr>\n",
       "    <tr>\n",
       "      <th>7390</th>\n",
       "      <td>79</td>\n",
       "      <td>0</td>\n",
       "      <td>27.5</td>\n",
       "      <td>19.0</td>\n",
       "      <td>33.6</td>\n",
       "      <td>1014.4</td>\n",
       "      <td>7.3</td>\n",
       "      <td>1.0</td>\n",
       "      <td>8</td>\n",
       "    </tr>\n",
       "    <tr>\n",
       "      <th>7751</th>\n",
       "      <td>80</td>\n",
       "      <td>2</td>\n",
       "      <td>26.5</td>\n",
       "      <td>22.2</td>\n",
       "      <td>31.3</td>\n",
       "      <td>1007.7</td>\n",
       "      <td>7.5</td>\n",
       "      <td>2.3</td>\n",
       "      <td>9</td>\n",
       "    </tr>\n",
       "    <tr>\n",
       "      <th>400</th>\n",
       "      <td>77</td>\n",
       "      <td>0</td>\n",
       "      <td>20.7</td>\n",
       "      <td>12.5</td>\n",
       "      <td>28.5</td>\n",
       "      <td>1013.3</td>\n",
       "      <td>9.4</td>\n",
       "      <td>4.0</td>\n",
       "      <td>4</td>\n",
       "    </tr>\n",
       "    <tr>\n",
       "      <th>1341</th>\n",
       "      <td>84</td>\n",
       "      <td>6</td>\n",
       "      <td>28.7</td>\n",
       "      <td>26.1</td>\n",
       "      <td>31.5</td>\n",
       "      <td>1008.3</td>\n",
       "      <td>5.0</td>\n",
       "      <td>4.4</td>\n",
       "      <td>9</td>\n",
       "    </tr>\n",
       "    <tr>\n",
       "      <th>3643</th>\n",
       "      <td>85</td>\n",
       "      <td>3</td>\n",
       "      <td>20.8</td>\n",
       "      <td>15.8</td>\n",
       "      <td>26.8</td>\n",
       "      <td>1012.1</td>\n",
       "      <td>6.0</td>\n",
       "      <td>0.0</td>\n",
       "      <td>0</td>\n",
       "    </tr>\n",
       "  </tbody>\n",
       "</table>\n",
       "<p>7597 rows × 9 columns</p>\n",
       "</div>"
      ],
      "text/plain": [
       "      Humidity  Cloud  Dry_bulb  Min_Temp  Max_Temp  Pressure  Sun Shine  \\\n",
       "3067        80      5      30.2      23.8      34.5    1003.1       10.0   \n",
       "4047        76      0      20.1      12.5      28.0    1016.1        8.6   \n",
       "7110        93      8      27.0      25.5      30.0     997.1        0.9   \n",
       "6924        72      0      18.4      11.2      27.2    1014.7        8.7   \n",
       "3586        73      1      26.7      21.4      32.0    1014.6       10.1   \n",
       "...        ...    ...       ...       ...       ...       ...        ...   \n",
       "7390        79      0      27.5      19.0      33.6    1014.4        7.3   \n",
       "7751        80      2      26.5      22.2      31.3    1007.7        7.5   \n",
       "400         77      0      20.7      12.5      28.5    1013.3        9.4   \n",
       "1341        84      6      28.7      26.1      31.5    1008.3        5.0   \n",
       "3643        85      3      20.8      15.8      26.8    1012.1        6.0   \n",
       "\n",
       "      Wind_Speed  Wind_Direction  \n",
       "3067         5.9               9  \n",
       "4047         2.5              14  \n",
       "7110         2.8               9  \n",
       "6924         4.0               8  \n",
       "3586         3.0               8  \n",
       "...          ...             ...  \n",
       "7390         1.0               8  \n",
       "7751         2.3               9  \n",
       "400          4.0               4  \n",
       "1341         4.4               9  \n",
       "3643         0.0               0  \n",
       "\n",
       "[7597 rows x 9 columns]"
      ]
     },
     "execution_count": 28,
     "metadata": {},
     "output_type": "execute_result"
    }
   ],
   "source": [
    "X_train"
   ]
  },
  {
   "cell_type": "code",
   "execution_count": 29,
   "id": "70c4d460-89d9-4277-a0fd-7838eaf0c9c2",
   "metadata": {},
   "outputs": [
    {
     "data": {
      "text/plain": [
       "9497"
      ]
     },
     "execution_count": 29,
     "metadata": {},
     "output_type": "execute_result"
    }
   ],
   "source": [
    "len(Y)"
   ]
  },
  {
   "cell_type": "code",
   "execution_count": 30,
   "id": "ad882335-7e61-439d-a7cc-506453035456",
   "metadata": {},
   "outputs": [
    {
     "data": {
      "text/plain": [
       "7597"
      ]
     },
     "execution_count": 30,
     "metadata": {},
     "output_type": "execute_result"
    }
   ],
   "source": [
    "len(Y_train)"
   ]
  },
  {
   "cell_type": "code",
   "execution_count": 31,
   "id": "0746ee5b-2dd9-40a8-83a0-3390b3dc8634",
   "metadata": {},
   "outputs": [
    {
     "data": {
      "text/plain": [
       "1900"
      ]
     },
     "execution_count": 31,
     "metadata": {},
     "output_type": "execute_result"
    }
   ],
   "source": [
    "len(Y_test)"
   ]
  },
  {
   "cell_type": "code",
   "execution_count": 32,
   "id": "92a048ea-8ca2-44b8-b738-3caf089245a8",
   "metadata": {},
   "outputs": [
    {
     "data": {
      "text/plain": [
       "8593     3\n",
       "330      0\n",
       "8941     0\n",
       "2907     0\n",
       "7978     7\n",
       "        ..\n",
       "3002    12\n",
       "8320     0\n",
       "4830     0\n",
       "7463     0\n",
       "7017     0\n",
       "Name: Rainfall, Length: 1900, dtype: int64"
      ]
     },
     "execution_count": 32,
     "metadata": {},
     "output_type": "execute_result"
    }
   ],
   "source": [
    "Y_test"
   ]
  },
  {
   "cell_type": "code",
   "execution_count": 33,
   "id": "fe1f1e21-34e2-4fd4-b981-f704c9749ae7",
   "metadata": {},
   "outputs": [
    {
     "data": {
      "text/plain": [
       "3067     0\n",
       "4047     0\n",
       "7110    16\n",
       "6924     0\n",
       "3586     0\n",
       "        ..\n",
       "7390     0\n",
       "7751     0\n",
       "400      0\n",
       "1341    11\n",
       "3643     0\n",
       "Name: Rainfall, Length: 7597, dtype: int64"
      ]
     },
     "execution_count": 33,
     "metadata": {},
     "output_type": "execute_result"
    }
   ],
   "source": [
    "Y_train"
   ]
  },
  {
   "cell_type": "code",
   "execution_count": 34,
   "id": "02da5d3b-38ea-4c4b-bea5-a69f8ca51405",
   "metadata": {},
   "outputs": [
    {
     "data": {
      "text/html": [
       "<style>#sk-container-id-1 {color: black;}#sk-container-id-1 pre{padding: 0;}#sk-container-id-1 div.sk-toggleable {background-color: white;}#sk-container-id-1 label.sk-toggleable__label {cursor: pointer;display: block;width: 100%;margin-bottom: 0;padding: 0.3em;box-sizing: border-box;text-align: center;}#sk-container-id-1 label.sk-toggleable__label-arrow:before {content: \"▸\";float: left;margin-right: 0.25em;color: #696969;}#sk-container-id-1 label.sk-toggleable__label-arrow:hover:before {color: black;}#sk-container-id-1 div.sk-estimator:hover label.sk-toggleable__label-arrow:before {color: black;}#sk-container-id-1 div.sk-toggleable__content {max-height: 0;max-width: 0;overflow: hidden;text-align: left;background-color: #f0f8ff;}#sk-container-id-1 div.sk-toggleable__content pre {margin: 0.2em;color: black;border-radius: 0.25em;background-color: #f0f8ff;}#sk-container-id-1 input.sk-toggleable__control:checked~div.sk-toggleable__content {max-height: 200px;max-width: 100%;overflow: auto;}#sk-container-id-1 input.sk-toggleable__control:checked~label.sk-toggleable__label-arrow:before {content: \"▾\";}#sk-container-id-1 div.sk-estimator input.sk-toggleable__control:checked~label.sk-toggleable__label {background-color: #d4ebff;}#sk-container-id-1 div.sk-label input.sk-toggleable__control:checked~label.sk-toggleable__label {background-color: #d4ebff;}#sk-container-id-1 input.sk-hidden--visually {border: 0;clip: rect(1px 1px 1px 1px);clip: rect(1px, 1px, 1px, 1px);height: 1px;margin: -1px;overflow: hidden;padding: 0;position: absolute;width: 1px;}#sk-container-id-1 div.sk-estimator {font-family: monospace;background-color: #f0f8ff;border: 1px dotted black;border-radius: 0.25em;box-sizing: border-box;margin-bottom: 0.5em;}#sk-container-id-1 div.sk-estimator:hover {background-color: #d4ebff;}#sk-container-id-1 div.sk-parallel-item::after {content: \"\";width: 100%;border-bottom: 1px solid gray;flex-grow: 1;}#sk-container-id-1 div.sk-label:hover label.sk-toggleable__label {background-color: #d4ebff;}#sk-container-id-1 div.sk-serial::before {content: \"\";position: absolute;border-left: 1px solid gray;box-sizing: border-box;top: 0;bottom: 0;left: 50%;z-index: 0;}#sk-container-id-1 div.sk-serial {display: flex;flex-direction: column;align-items: center;background-color: white;padding-right: 0.2em;padding-left: 0.2em;position: relative;}#sk-container-id-1 div.sk-item {position: relative;z-index: 1;}#sk-container-id-1 div.sk-parallel {display: flex;align-items: stretch;justify-content: center;background-color: white;position: relative;}#sk-container-id-1 div.sk-item::before, #sk-container-id-1 div.sk-parallel-item::before {content: \"\";position: absolute;border-left: 1px solid gray;box-sizing: border-box;top: 0;bottom: 0;left: 50%;z-index: -1;}#sk-container-id-1 div.sk-parallel-item {display: flex;flex-direction: column;z-index: 1;position: relative;background-color: white;}#sk-container-id-1 div.sk-parallel-item:first-child::after {align-self: flex-end;width: 50%;}#sk-container-id-1 div.sk-parallel-item:last-child::after {align-self: flex-start;width: 50%;}#sk-container-id-1 div.sk-parallel-item:only-child::after {width: 0;}#sk-container-id-1 div.sk-dashed-wrapped {border: 1px dashed gray;margin: 0 0.4em 0.5em 0.4em;box-sizing: border-box;padding-bottom: 0.4em;background-color: white;}#sk-container-id-1 div.sk-label label {font-family: monospace;font-weight: bold;display: inline-block;line-height: 1.2em;}#sk-container-id-1 div.sk-label-container {text-align: center;}#sk-container-id-1 div.sk-container {/* jupyter's `normalize.less` sets `[hidden] { display: none; }` but bootstrap.min.css set `[hidden] { display: none !important; }` so we also need the `!important` here to be able to override the default hidden behavior on the sphinx rendered scikit-learn.org. See: https://github.com/scikit-learn/scikit-learn/issues/21755 */display: inline-block !important;position: relative;}#sk-container-id-1 div.sk-text-repr-fallback {display: none;}</style><div id=\"sk-container-id-1\" class=\"sk-top-container\"><div class=\"sk-text-repr-fallback\"><pre>LinearRegression()</pre><b>In a Jupyter environment, please rerun this cell to show the HTML representation or trust the notebook. <br />On GitHub, the HTML representation is unable to render, please try loading this page with nbviewer.org.</b></div><div class=\"sk-container\" hidden><div class=\"sk-item\"><div class=\"sk-estimator sk-toggleable\"><input class=\"sk-toggleable__control sk-hidden--visually\" id=\"sk-estimator-id-1\" type=\"checkbox\" checked><label for=\"sk-estimator-id-1\" class=\"sk-toggleable__label sk-toggleable__label-arrow\">LinearRegression</label><div class=\"sk-toggleable__content\"><pre>LinearRegression()</pre></div></div></div></div></div>"
      ],
      "text/plain": [
       "LinearRegression()"
      ]
     },
     "execution_count": 34,
     "metadata": {},
     "output_type": "execute_result"
    }
   ],
   "source": [
    "from sklearn.linear_model import LinearRegression\n",
    "clf = LinearRegression()\n",
    "clf.fit(X_train,Y_train)"
   ]
  },
  {
   "cell_type": "code",
   "execution_count": 35,
   "id": "2c78c8b9-6469-41a7-81fb-b2645e92bee0",
   "metadata": {},
   "outputs": [
    {
     "data": {
      "text/plain": [
       "array([ 7.04850527, -0.08749339,  3.22731127, ..., 12.3804147 ,\n",
       "        5.47170738, -7.57525665])"
      ]
     },
     "execution_count": 35,
     "metadata": {},
     "output_type": "execute_result"
    }
   ],
   "source": [
    "clf.predict(X_test)"
   ]
  },
  {
   "cell_type": "code",
   "execution_count": 36,
   "id": "61fefb5f-fcd7-4425-95fb-7ddfe841dd61",
   "metadata": {},
   "outputs": [
    {
     "data": {
      "text/plain": [
       "8593     3\n",
       "330      0\n",
       "8941     0\n",
       "2907     0\n",
       "7978     7\n",
       "        ..\n",
       "3002    12\n",
       "8320     0\n",
       "4830     0\n",
       "7463     0\n",
       "7017     0\n",
       "Name: Rainfall, Length: 1900, dtype: int64"
      ]
     },
     "execution_count": 36,
     "metadata": {},
     "output_type": "execute_result"
    }
   ],
   "source": [
    "Y_test"
   ]
  },
  {
   "cell_type": "code",
   "execution_count": 38,
   "id": "835ac92a-9294-427a-88b3-9c7a1d3702de",
   "metadata": {},
   "outputs": [
    {
     "data": {
      "text/plain": [
       "0.24117794578202845"
      ]
     },
     "execution_count": 38,
     "metadata": {},
     "output_type": "execute_result"
    }
   ],
   "source": [
    "clf.score(X_test,Y_test)"
   ]
  },
  {
   "cell_type": "code",
   "execution_count": 39,
   "id": "3a76082c-eb1e-4d49-8ef2-66d835790d79",
   "metadata": {},
   "outputs": [
    {
     "data": {
      "text/plain": [
       "array([13.72909424,  2.22507311, 19.60274845, ...,  3.508649  ,\n",
       "       10.5880127 ,  7.08381897])"
      ]
     },
     "execution_count": 39,
     "metadata": {},
     "output_type": "execute_result"
    }
   ],
   "source": [
    "clf.predict(X_train)"
   ]
  },
  {
   "cell_type": "code",
   "execution_count": 40,
   "id": "3d0c1eb3-f5b1-403e-a338-bf4ca1fe8dd3",
   "metadata": {},
   "outputs": [
    {
     "data": {
      "text/plain": [
       "3067     0\n",
       "4047     0\n",
       "7110    16\n",
       "6924     0\n",
       "3586     0\n",
       "        ..\n",
       "7390     0\n",
       "7751     0\n",
       "400      0\n",
       "1341    11\n",
       "3643     0\n",
       "Name: Rainfall, Length: 7597, dtype: int64"
      ]
     },
     "execution_count": 40,
     "metadata": {},
     "output_type": "execute_result"
    }
   ],
   "source": [
    "Y_train"
   ]
  },
  {
   "cell_type": "code",
   "execution_count": 41,
   "id": "585656c5-d7c9-48c1-8627-55c3acbcb22b",
   "metadata": {},
   "outputs": [
    {
     "data": {
      "text/plain": [
       "0.21419512159839982"
      ]
     },
     "execution_count": 41,
     "metadata": {},
     "output_type": "execute_result"
    }
   ],
   "source": [
    "clf.score(X_train,Y_train)"
   ]
  },
  {
   "cell_type": "code",
   "execution_count": null,
   "id": "d6babfd9-504f-455b-ba79-ed706047f41c",
   "metadata": {},
   "outputs": [],
   "source": [
    "Y_pred = clf.predict(X_test)"
   ]
  }
 ],
 "metadata": {
  "kernelspec": {
   "display_name": "Python 3 (ipykernel)",
   "language": "python",
   "name": "python3"
  },
  "language_info": {
   "codemirror_mode": {
    "name": "ipython",
    "version": 3
   },
   "file_extension": ".py",
   "mimetype": "text/x-python",
   "name": "python",
   "nbconvert_exporter": "python",
   "pygments_lexer": "ipython3",
   "version": "3.11.4"
  }
 },
 "nbformat": 4,
 "nbformat_minor": 5
}

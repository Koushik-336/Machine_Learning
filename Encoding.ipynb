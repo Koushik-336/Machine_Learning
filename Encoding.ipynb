{
 "cells": [
  {
   "cell_type": "code",
   "execution_count": 2,
   "id": "510d392c-c2b8-4aa2-b1c4-9a76221facaf",
   "metadata": {},
   "outputs": [],
   "source": [
    "import pandas as pd\n"
   ]
  },
  {
   "cell_type": "code",
   "execution_count": 5,
   "id": "cf35a212-1dc2-4289-a1f8-b4061406cacd",
   "metadata": {},
   "outputs": [],
   "source": [
    "df = pd.read_csv('New_Dataset_1995_2020_ .csv', index_col='Date', parse_dates=True)"
   ]
  },
  {
   "cell_type": "code",
   "execution_count": 6,
   "id": "a3f2e3b4-fac3-436c-9dfb-931fdb037fef",
   "metadata": {},
   "outputs": [
    {
     "data": {
      "text/html": [
       "<div>\n",
       "<style scoped>\n",
       "    .dataframe tbody tr th:only-of-type {\n",
       "        vertical-align: middle;\n",
       "    }\n",
       "\n",
       "    .dataframe tbody tr th {\n",
       "        vertical-align: top;\n",
       "    }\n",
       "\n",
       "    .dataframe thead th {\n",
       "        text-align: right;\n",
       "    }\n",
       "</style>\n",
       "<table border=\"1\" class=\"dataframe\">\n",
       "  <thead>\n",
       "    <tr style=\"text-align: right;\">\n",
       "      <th></th>\n",
       "      <th>Rainfall</th>\n",
       "      <th>Humidity</th>\n",
       "      <th>Cloud</th>\n",
       "      <th>Dry_bulb</th>\n",
       "      <th>Min_Temp</th>\n",
       "      <th>Max_Temp</th>\n",
       "      <th>Pressure</th>\n",
       "      <th>Sun Shine</th>\n",
       "      <th>Wind_Speed</th>\n",
       "      <th>Wind_Direction</th>\n",
       "    </tr>\n",
       "    <tr>\n",
       "      <th>Date</th>\n",
       "      <th></th>\n",
       "      <th></th>\n",
       "      <th></th>\n",
       "      <th></th>\n",
       "      <th></th>\n",
       "      <th></th>\n",
       "      <th></th>\n",
       "      <th></th>\n",
       "      <th></th>\n",
       "      <th></th>\n",
       "    </tr>\n",
       "  </thead>\n",
       "  <tbody>\n",
       "    <tr>\n",
       "      <th>01/01/1995</th>\n",
       "      <td>0</td>\n",
       "      <td>69</td>\n",
       "      <td>0</td>\n",
       "      <td>19.2</td>\n",
       "      <td>9.9</td>\n",
       "      <td>26</td>\n",
       "      <td>1015.2</td>\n",
       "      <td>6.3</td>\n",
       "      <td>0.0</td>\n",
       "      <td>CLM</td>\n",
       "    </tr>\n",
       "    <tr>\n",
       "      <th>02/01/1995</th>\n",
       "      <td>0</td>\n",
       "      <td>70</td>\n",
       "      <td>0</td>\n",
       "      <td>15.5</td>\n",
       "      <td>11.5</td>\n",
       "      <td>24</td>\n",
       "      <td>1015.2</td>\n",
       "      <td>8.3</td>\n",
       "      <td>0.0</td>\n",
       "      <td>CLM</td>\n",
       "    </tr>\n",
       "    <tr>\n",
       "      <th>03/01/1995</th>\n",
       "      <td>0</td>\n",
       "      <td>71</td>\n",
       "      <td>0</td>\n",
       "      <td>14.2</td>\n",
       "      <td>6</td>\n",
       "      <td>23.5</td>\n",
       "      <td>1016.1</td>\n",
       "      <td>8.5</td>\n",
       "      <td>0.0</td>\n",
       "      <td>CLM</td>\n",
       "    </tr>\n",
       "    <tr>\n",
       "      <th>04/01/1995</th>\n",
       "      <td>0</td>\n",
       "      <td>72</td>\n",
       "      <td>0</td>\n",
       "      <td>15.0</td>\n",
       "      <td>6.4</td>\n",
       "      <td>25</td>\n",
       "      <td>1016.8</td>\n",
       "      <td>8.7</td>\n",
       "      <td>0.0</td>\n",
       "      <td>CLM</td>\n",
       "    </tr>\n",
       "    <tr>\n",
       "      <th>05/01/1995</th>\n",
       "      <td>0</td>\n",
       "      <td>75</td>\n",
       "      <td>0</td>\n",
       "      <td>16.1</td>\n",
       "      <td>7</td>\n",
       "      <td>25.5</td>\n",
       "      <td>1018.0</td>\n",
       "      <td>8.8</td>\n",
       "      <td>6.0</td>\n",
       "      <td>NNW</td>\n",
       "    </tr>\n",
       "  </tbody>\n",
       "</table>\n",
       "</div>"
      ],
      "text/plain": [
       "            Rainfall  Humidity  Cloud  Dry_bulb Min_Temp Max_Temp  Pressure  \\\n",
       "Date                                                                          \n",
       "01/01/1995         0        69      0      19.2      9.9       26    1015.2   \n",
       "02/01/1995         0        70      0      15.5     11.5       24    1015.2   \n",
       "03/01/1995         0        71      0      14.2        6     23.5    1016.1   \n",
       "04/01/1995         0        72      0      15.0      6.4       25    1016.8   \n",
       "05/01/1995         0        75      0      16.1        7     25.5    1018.0   \n",
       "\n",
       "           Sun Shine  Wind_Speed Wind_Direction  \n",
       "Date                                             \n",
       "01/01/1995       6.3         0.0            CLM  \n",
       "02/01/1995       8.3         0.0            CLM  \n",
       "03/01/1995       8.5         0.0            CLM  \n",
       "04/01/1995       8.7         0.0            CLM  \n",
       "05/01/1995       8.8         6.0            NNW  "
      ]
     },
     "execution_count": 6,
     "metadata": {},
     "output_type": "execute_result"
    }
   ],
   "source": [
    "df.head()\n"
   ]
  },
  {
   "cell_type": "code",
   "execution_count": 7,
   "id": "1b7bfdfe-19f4-4986-88db-1aae1ae830f7",
   "metadata": {},
   "outputs": [
    {
     "data": {
      "text/html": [
       "<div>\n",
       "<style scoped>\n",
       "    .dataframe tbody tr th:only-of-type {\n",
       "        vertical-align: middle;\n",
       "    }\n",
       "\n",
       "    .dataframe tbody tr th {\n",
       "        vertical-align: top;\n",
       "    }\n",
       "\n",
       "    .dataframe thead th {\n",
       "        text-align: right;\n",
       "    }\n",
       "</style>\n",
       "<table border=\"1\" class=\"dataframe\">\n",
       "  <thead>\n",
       "    <tr style=\"text-align: right;\">\n",
       "      <th></th>\n",
       "      <th>Rainfall</th>\n",
       "      <th>Humidity</th>\n",
       "      <th>Cloud</th>\n",
       "      <th>Dry_bulb</th>\n",
       "      <th>Min_Temp</th>\n",
       "      <th>Max_Temp</th>\n",
       "      <th>Pressure</th>\n",
       "      <th>Sun Shine</th>\n",
       "      <th>Wind_Speed</th>\n",
       "      <th>Wind_Direction</th>\n",
       "    </tr>\n",
       "    <tr>\n",
       "      <th>Date</th>\n",
       "      <th></th>\n",
       "      <th></th>\n",
       "      <th></th>\n",
       "      <th></th>\n",
       "      <th></th>\n",
       "      <th></th>\n",
       "      <th></th>\n",
       "      <th></th>\n",
       "      <th></th>\n",
       "      <th></th>\n",
       "    </tr>\n",
       "  </thead>\n",
       "  <tbody>\n",
       "    <tr>\n",
       "      <th>27/12/2020</th>\n",
       "      <td>0</td>\n",
       "      <td>72</td>\n",
       "      <td>0</td>\n",
       "      <td>18.3</td>\n",
       "      <td>11.5</td>\n",
       "      <td>25.6</td>\n",
       "      <td>1012.9</td>\n",
       "      <td>8.1</td>\n",
       "      <td>0.0</td>\n",
       "      <td>CLM</td>\n",
       "    </tr>\n",
       "    <tr>\n",
       "      <th>28/12/2020</th>\n",
       "      <td>0</td>\n",
       "      <td>81</td>\n",
       "      <td>0</td>\n",
       "      <td>17.5</td>\n",
       "      <td>11</td>\n",
       "      <td>26</td>\n",
       "      <td>1012.9</td>\n",
       "      <td>7.4</td>\n",
       "      <td>2.0</td>\n",
       "      <td>NNW</td>\n",
       "    </tr>\n",
       "    <tr>\n",
       "      <th>29/12/2020</th>\n",
       "      <td>0</td>\n",
       "      <td>78</td>\n",
       "      <td>0</td>\n",
       "      <td>17.6</td>\n",
       "      <td>10.5</td>\n",
       "      <td>25.5</td>\n",
       "      <td>1013.7</td>\n",
       "      <td>8.1</td>\n",
       "      <td>2.0</td>\n",
       "      <td>NW</td>\n",
       "    </tr>\n",
       "    <tr>\n",
       "      <th>30/12/2020</th>\n",
       "      <td>0</td>\n",
       "      <td>77</td>\n",
       "      <td>0</td>\n",
       "      <td>17.4</td>\n",
       "      <td>10.9</td>\n",
       "      <td>25.5</td>\n",
       "      <td>1014.2</td>\n",
       "      <td>8.6</td>\n",
       "      <td>0.0</td>\n",
       "      <td>CLM</td>\n",
       "    </tr>\n",
       "    <tr>\n",
       "      <th>31/12/2020</th>\n",
       "      <td>0</td>\n",
       "      <td>75</td>\n",
       "      <td>0</td>\n",
       "      <td>17.7</td>\n",
       "      <td>10.5</td>\n",
       "      <td>26.7</td>\n",
       "      <td>1014.4</td>\n",
       "      <td>8.9</td>\n",
       "      <td>2.0</td>\n",
       "      <td>NNW</td>\n",
       "    </tr>\n",
       "  </tbody>\n",
       "</table>\n",
       "</div>"
      ],
      "text/plain": [
       "            Rainfall  Humidity  Cloud  Dry_bulb Min_Temp Max_Temp  Pressure  \\\n",
       "Date                                                                          \n",
       "27/12/2020         0        72      0      18.3     11.5     25.6    1012.9   \n",
       "28/12/2020         0        81      0      17.5       11       26    1012.9   \n",
       "29/12/2020         0        78      0      17.6     10.5     25.5    1013.7   \n",
       "30/12/2020         0        77      0      17.4     10.9     25.5    1014.2   \n",
       "31/12/2020         0        75      0      17.7     10.5     26.7    1014.4   \n",
       "\n",
       "           Sun Shine  Wind_Speed Wind_Direction  \n",
       "Date                                             \n",
       "27/12/2020       8.1         0.0            CLM  \n",
       "28/12/2020       7.4         2.0            NNW  \n",
       "29/12/2020       8.1         2.0            NW   \n",
       "30/12/2020       8.6         0.0            CLM  \n",
       "31/12/2020       8.9         2.0            NNW  "
      ]
     },
     "execution_count": 7,
     "metadata": {},
     "output_type": "execute_result"
    }
   ],
   "source": [
    "df.tail()"
   ]
  },
  {
   "cell_type": "code",
   "execution_count": 8,
   "id": "83244694-9a51-4004-b24f-e40a5ecb01a4",
   "metadata": {},
   "outputs": [
    {
     "data": {
      "text/plain": [
       "Rainfall            int64\n",
       "Humidity            int64\n",
       "Cloud               int64\n",
       "Dry_bulb          float64\n",
       "Min_Temp           object\n",
       "Max_Temp           object\n",
       "Pressure          float64\n",
       "Sun Shine          object\n",
       "Wind_Speed        float64\n",
       "Wind_Direction     object\n",
       "dtype: object"
      ]
     },
     "execution_count": 8,
     "metadata": {},
     "output_type": "execute_result"
    }
   ],
   "source": [
    "df.dtypes"
   ]
  },
  {
   "cell_type": "code",
   "execution_count": 9,
   "id": "958ff21a-8152-473f-a13f-64fc44694867",
   "metadata": {},
   "outputs": [
    {
     "data": {
      "text/plain": [
       "array(['CLM', 'NNW', 'NW ', 'N  ', 'W  ', 'SSW', 'S  ', 'SW ', 'SE ',\n",
       "       'E  ', 'SSE', 'NE ', 'WNW', 'ESE', 'WSW', 'ENE', 'NNE'],\n",
       "      dtype=object)"
      ]
     },
     "execution_count": 9,
     "metadata": {},
     "output_type": "execute_result"
    }
   ],
   "source": [
    "df[\"Wind_Direction\"].unique()"
   ]
  },
  {
   "cell_type": "code",
   "execution_count": 10,
   "id": "c2304327-a5c1-4527-b9f0-4d31e17efaa7",
   "metadata": {},
   "outputs": [
    {
     "data": {
      "text/plain": [
       "Wind_Direction\n",
       "S      4359\n",
       "NW     1306\n",
       "N      1045\n",
       "W       667\n",
       "SW      400\n",
       "SE      338\n",
       "NNW     261\n",
       "NE      256\n",
       "SSW     245\n",
       "CLM     234\n",
       "E       181\n",
       "WNW      63\n",
       "WSW      49\n",
       "SSE      48\n",
       "ENE      19\n",
       "NNE      14\n",
       "ESE      12\n",
       "Name: count, dtype: int64"
      ]
     },
     "execution_count": 10,
     "metadata": {},
     "output_type": "execute_result"
    }
   ],
   "source": [
    "df[\"Wind_Direction\"].value_counts()"
   ]
  },
  {
   "cell_type": "code",
   "execution_count": 14,
   "id": "992483d4-5ac3-4532-bb0b-e17c4676e32c",
   "metadata": {},
   "outputs": [],
   "source": [
    "from sklearn.preprocessing import LabelEncoder"
   ]
  },
  {
   "cell_type": "code",
   "execution_count": 15,
   "id": "510758ec-4351-456c-907f-976588238321",
   "metadata": {},
   "outputs": [],
   "source": [
    "label_encoder = LabelEncoder()"
   ]
  },
  {
   "cell_type": "code",
   "execution_count": 16,
   "id": "d83efa9c-711b-4221-8e58-06f4fbac8c8c",
   "metadata": {},
   "outputs": [
    {
     "name": "stdout",
     "output_type": "stream",
     "text": [
      "LabelEncoder()\n"
     ]
    }
   ],
   "source": [
    "print(label_encoder)"
   ]
  },
  {
   "cell_type": "code",
   "execution_count": 17,
   "id": "1405a94a-cf70-4bf1-b3fb-81d45b4d0758",
   "metadata": {},
   "outputs": [],
   "source": [
    "df[\"Wind_Direction\"] = label_encoder.fit_transform(df[\"Wind_Direction\"])"
   ]
  },
  {
   "cell_type": "code",
   "execution_count": 18,
   "id": "26f61e01-992a-4f41-8381-dab83c7c102e",
   "metadata": {},
   "outputs": [
    {
     "data": {
      "text/html": [
       "<div>\n",
       "<style scoped>\n",
       "    .dataframe tbody tr th:only-of-type {\n",
       "        vertical-align: middle;\n",
       "    }\n",
       "\n",
       "    .dataframe tbody tr th {\n",
       "        vertical-align: top;\n",
       "    }\n",
       "\n",
       "    .dataframe thead th {\n",
       "        text-align: right;\n",
       "    }\n",
       "</style>\n",
       "<table border=\"1\" class=\"dataframe\">\n",
       "  <thead>\n",
       "    <tr style=\"text-align: right;\">\n",
       "      <th></th>\n",
       "      <th>Rainfall</th>\n",
       "      <th>Humidity</th>\n",
       "      <th>Cloud</th>\n",
       "      <th>Dry_bulb</th>\n",
       "      <th>Min_Temp</th>\n",
       "      <th>Max_Temp</th>\n",
       "      <th>Pressure</th>\n",
       "      <th>Sun Shine</th>\n",
       "      <th>Wind_Speed</th>\n",
       "      <th>Wind_Direction</th>\n",
       "    </tr>\n",
       "    <tr>\n",
       "      <th>Date</th>\n",
       "      <th></th>\n",
       "      <th></th>\n",
       "      <th></th>\n",
       "      <th></th>\n",
       "      <th></th>\n",
       "      <th></th>\n",
       "      <th></th>\n",
       "      <th></th>\n",
       "      <th></th>\n",
       "      <th></th>\n",
       "    </tr>\n",
       "  </thead>\n",
       "  <tbody>\n",
       "    <tr>\n",
       "      <th>01/01/1995</th>\n",
       "      <td>0</td>\n",
       "      <td>69</td>\n",
       "      <td>0</td>\n",
       "      <td>19.2</td>\n",
       "      <td>9.9</td>\n",
       "      <td>26</td>\n",
       "      <td>1015.2</td>\n",
       "      <td>6.3</td>\n",
       "      <td>0.0</td>\n",
       "      <td>0</td>\n",
       "    </tr>\n",
       "    <tr>\n",
       "      <th>02/01/1995</th>\n",
       "      <td>0</td>\n",
       "      <td>70</td>\n",
       "      <td>0</td>\n",
       "      <td>15.5</td>\n",
       "      <td>11.5</td>\n",
       "      <td>24</td>\n",
       "      <td>1015.2</td>\n",
       "      <td>8.3</td>\n",
       "      <td>0.0</td>\n",
       "      <td>0</td>\n",
       "    </tr>\n",
       "    <tr>\n",
       "      <th>03/01/1995</th>\n",
       "      <td>0</td>\n",
       "      <td>71</td>\n",
       "      <td>0</td>\n",
       "      <td>14.2</td>\n",
       "      <td>6</td>\n",
       "      <td>23.5</td>\n",
       "      <td>1016.1</td>\n",
       "      <td>8.5</td>\n",
       "      <td>0.0</td>\n",
       "      <td>0</td>\n",
       "    </tr>\n",
       "    <tr>\n",
       "      <th>04/01/1995</th>\n",
       "      <td>0</td>\n",
       "      <td>72</td>\n",
       "      <td>0</td>\n",
       "      <td>15.0</td>\n",
       "      <td>6.4</td>\n",
       "      <td>25</td>\n",
       "      <td>1016.8</td>\n",
       "      <td>8.7</td>\n",
       "      <td>0.0</td>\n",
       "      <td>0</td>\n",
       "    </tr>\n",
       "    <tr>\n",
       "      <th>05/01/1995</th>\n",
       "      <td>0</td>\n",
       "      <td>75</td>\n",
       "      <td>0</td>\n",
       "      <td>16.1</td>\n",
       "      <td>7</td>\n",
       "      <td>25.5</td>\n",
       "      <td>1018.0</td>\n",
       "      <td>8.8</td>\n",
       "      <td>6.0</td>\n",
       "      <td>7</td>\n",
       "    </tr>\n",
       "  </tbody>\n",
       "</table>\n",
       "</div>"
      ],
      "text/plain": [
       "            Rainfall  Humidity  Cloud  Dry_bulb Min_Temp Max_Temp  Pressure  \\\n",
       "Date                                                                          \n",
       "01/01/1995         0        69      0      19.2      9.9       26    1015.2   \n",
       "02/01/1995         0        70      0      15.5     11.5       24    1015.2   \n",
       "03/01/1995         0        71      0      14.2        6     23.5    1016.1   \n",
       "04/01/1995         0        72      0      15.0      6.4       25    1016.8   \n",
       "05/01/1995         0        75      0      16.1        7     25.5    1018.0   \n",
       "\n",
       "           Sun Shine  Wind_Speed  Wind_Direction  \n",
       "Date                                              \n",
       "01/01/1995       6.3         0.0               0  \n",
       "02/01/1995       8.3         0.0               0  \n",
       "03/01/1995       8.5         0.0               0  \n",
       "04/01/1995       8.7         0.0               0  \n",
       "05/01/1995       8.8         6.0               7  "
      ]
     },
     "execution_count": 18,
     "metadata": {},
     "output_type": "execute_result"
    }
   ],
   "source": [
    "df.head()"
   ]
  },
  {
   "cell_type": "code",
   "execution_count": 19,
   "id": "8e3c7a66-4f3d-44df-b7e4-9d9b5cec6605",
   "metadata": {},
   "outputs": [
    {
     "data": {
      "text/plain": [
       "Rainfall            int64\n",
       "Humidity            int64\n",
       "Cloud               int64\n",
       "Dry_bulb          float64\n",
       "Min_Temp           object\n",
       "Max_Temp           object\n",
       "Pressure          float64\n",
       "Sun Shine          object\n",
       "Wind_Speed        float64\n",
       "Wind_Direction      int32\n",
       "dtype: object"
      ]
     },
     "execution_count": 19,
     "metadata": {},
     "output_type": "execute_result"
    }
   ],
   "source": [
    "df.dtypes"
   ]
  },
  {
   "cell_type": "code",
   "execution_count": 21,
   "id": "174982f6-5436-477b-aa1f-9bcebd3e3046",
   "metadata": {},
   "outputs": [
    {
     "data": {
      "text/plain": [
       "array([ 0,  7,  8,  4, 14, 12,  9, 13, 10,  1, 11,  5, 15,  3, 16,  2,  6])"
      ]
     },
     "execution_count": 21,
     "metadata": {},
     "output_type": "execute_result"
    }
   ],
   "source": [
    "df[\"Wind_Direction\"].unique()"
   ]
  },
  {
   "cell_type": "code",
   "execution_count": 22,
   "id": "9d3fd5d0-ca4d-4278-8835-fc11270646d3",
   "metadata": {},
   "outputs": [
    {
     "data": {
      "text/plain": [
       "Wind_Direction\n",
       "9     4359\n",
       "8     1306\n",
       "4     1045\n",
       "14     667\n",
       "13     400\n",
       "10     338\n",
       "7      261\n",
       "5      256\n",
       "12     245\n",
       "0      234\n",
       "1      181\n",
       "15      63\n",
       "16      49\n",
       "11      48\n",
       "2       19\n",
       "6       14\n",
       "3       12\n",
       "Name: count, dtype: int64"
      ]
     },
     "execution_count": 22,
     "metadata": {},
     "output_type": "execute_result"
    }
   ],
   "source": [
    "df[\"Wind_Direction\"].value_counts()"
   ]
  }
 ],
 "metadata": {
  "kernelspec": {
   "display_name": "Python 3 (ipykernel)",
   "language": "python",
   "name": "python3"
  },
  "language_info": {
   "codemirror_mode": {
    "name": "ipython",
    "version": 3
   },
   "file_extension": ".py",
   "mimetype": "text/x-python",
   "name": "python",
   "nbconvert_exporter": "python",
   "pygments_lexer": "ipython3",
   "version": "3.11.4"
  }
 },
 "nbformat": 4,
 "nbformat_minor": 5
}
